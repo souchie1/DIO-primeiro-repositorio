{
  "nbformat": 4,
  "nbformat_minor": 0,
  "metadata": {
    "colab": {
      "provenance": [],
      "authorship_tag": "ABX9TyNL6OwsX0vro4agNy1oSLte",
      "include_colab_link": true
    },
    "kernelspec": {
      "name": "python3",
      "display_name": "Python 3"
    },
    "language_info": {
      "name": "python"
    }
  },
  "cells": [
    {
      "cell_type": "markdown",
      "metadata": {
        "id": "view-in-github",
        "colab_type": "text"
      },
      "source": [
        "<a href=\"https://colab.research.google.com/github/souchie1/DIO-primeiro-repositorio/blob/main/OFICINA_BD_.ipynb\" target=\"_parent\"><img src=\"https://colab.research.google.com/assets/colab-badge.svg\" alt=\"Open In Colab\"/></a>"
      ]
    },
    {
      "cell_type": "code",
      "execution_count": null,
      "metadata": {
        "id": "bTt1V-7KJpSx"
      },
      "outputs": [],
      "source": [
        "CREATE TABLE Cliente (\n",
        "    ID INT PRIMARY KEY,\n",
        "    Nome VARCHAR(255),\n",
        "    Telefone VARCHAR(20),\n",
        "    Endereço VARCHAR(255)\n",
        ");\n",
        "\n",
        "CREATE TABLE Carro (\n",
        "    ID INT PRIMARY KEY,\n",
        "    Modelo VARCHAR(50),\n",
        "    Ano INT,\n",
        "    Placa VARCHAR(10),\n",
        "    Cliente_ID INT,\n",
        "    FOREIGN KEY (Cliente_ID) REFERENCES Cliente(ID)\n",
        ");\n",
        "\n",
        "CREATE TABLE Serviço (\n",
        "    ID INT PRIMARY KEY,\n",
        "    Descrição VARCHAR(255),\n",
        "    Preço DECIMAL(10, 2)\n",
        ");\n",
        "\n",
        "CREATE TABLE OrdemDeServiço (\n",
        "    ID INT PRIMARY KEY,\n",
        "    Carro_ID INT,\n",
        "    Data DATE,\n",
        "    Total DECIMAL(10, 2),\n",
        "    Observações TEXT,\n",
        "    FOREIGN KEY (Carro_ID) REFERENCES Carro(ID)\n",
        ");\n"
      ]
    },
    {
      "cell_type": "code",
      "source": [
        "INSERT INTO Cliente (ID, Nome, Telefone, Endereço) VALUES\n",
        "    (1, 'João Silva', '123456789', 'Rua A, 123'),\n",
        "    (2, 'Maria Souza', '987654321', 'Avenida B, 456');\n",
        "\n",
        "INSERT INTO Carro (ID, Modelo, Ano, Placa, Cliente_ID) VALUES\n",
        "    (1, 'Ford Focus', 2018, 'ABC123', 1),\n",
        "    (2, 'Chevrolet Onix', 2020, 'DEF456', 2);\n",
        "\n",
        "INSERT INTO Serviço (ID, Descrição, Preço) VALUES\n",
        "    (1, 'Troca de Óleo', 50.00),\n",
        "    (2, 'Reparo de Freios', 120.00);\n",
        "\n",
        "INSERT INTO OrdemDeServiço (ID, Carro_ID, Data, Total, Observações) VALUES\n",
        "    (1, 1, '2023-08-10', 70.00, 'Óleo + Mão de obra'),\n",
        "    (2, 2, '2023-08-11', 200.00, 'Freios dianteiros');\n"
      ],
      "metadata": {
        "id": "HyohCjx2KDtU"
      },
      "execution_count": null,
      "outputs": []
    },
    {
      "cell_type": "code",
      "source": [
        "SELECT * FROM Cliente;\n"
      ],
      "metadata": {
        "id": "u5DFKTZzKIMF"
      },
      "execution_count": null,
      "outputs": []
    },
    {
      "cell_type": "code",
      "source": [
        "SELECT * FROM Carro WHERE Cliente_ID = 1;\n"
      ],
      "metadata": {
        "id": "GPFlWxijKKB9"
      },
      "execution_count": null,
      "outputs": []
    },
    {
      "cell_type": "code",
      "source": [
        "SELECT c.Nome, SUM(os.Total) AS TotalGasto\n",
        "FROM Cliente c\n",
        "JOIN Carro car ON c.ID = car.Cliente_ID\n",
        "JOIN OrdemDeServiço os ON car.ID = os.Carro_ID\n",
        "GROUP BY c.ID, c.Nome;\n"
      ],
      "metadata": {
        "id": "fMPOIGTZKOws"
      },
      "execution_count": null,
      "outputs": []
    },
    {
      "cell_type": "code",
      "source": [
        "SELECT car.Modelo, s.Descrição, s.Preço\n",
        "FROM Carro car\n",
        "LEFT JOIN OrdemDeServiço os ON car.ID = os.Carro_ID\n",
        "LEFT JOIN Serviço s ON os.ID = s.ID;\n"
      ],
      "metadata": {
        "id": "SATl6MWcKWW2"
      },
      "execution_count": null,
      "outputs": []
    },
    {
      "cell_type": "code",
      "source": [
        "SELECT c.Nome\n",
        "FROM Cliente c\n",
        "JOIN Carro car ON c.ID = car.Cliente_ID\n",
        "JOIN OrdemDeServiço os ON car.ID = os.Carro_ID\n",
        "JOIN Serviço s ON os.ID = s.ID\n",
        "WHERE s.Descrição = 'Reparo de Freios';\n"
      ],
      "metadata": {
        "id": "SEXeBRNvKh9-"
      },
      "execution_count": null,
      "outputs": []
    },
    {
      "cell_type": "code",
      "source": [
        "SELECT car.Modelo, car.Ano, s.Descrição\n",
        "FROM Carro car\n",
        "LEFT JOIN OrdemDeServiço os ON car.ID = os.Carro_ID\n",
        "LEFT JOIN Serviço s ON os.ID = s.ID\n",
        "ORDER BY car.Ano;\n"
      ],
      "metadata": {
        "id": "7am9DsCTKoPF"
      },
      "execution_count": null,
      "outputs": []
    },
    {
      "cell_type": "code",
      "source": [
        "SELECT c.Nome, SUM(os.Total) AS TotalGasto\n",
        "FROM Cliente c\n",
        "JOIN Carro car ON c.ID = car.Cliente_ID\n",
        "JOIN OrdemDeServiço os ON car.ID = os.Carro_ID\n",
        "GROUP BY c.ID, c.Nome\n",
        "HAVING TotalGasto > 1000;\n"
      ],
      "metadata": {
        "id": "cSH8iI-iKqrf"
      },
      "execution_count": null,
      "outputs": []
    }
  ]
}