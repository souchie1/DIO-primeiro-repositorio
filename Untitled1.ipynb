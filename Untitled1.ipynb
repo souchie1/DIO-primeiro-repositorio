{
  "nbformat": 4,
  "nbformat_minor": 0,
  "metadata": {
    "colab": {
      "provenance": [],
      "authorship_tag": "ABX9TyNIlyuWPCI06Ya5CrLuQ3vZ",
      "include_colab_link": true
    },
    "kernelspec": {
      "name": "python3",
      "display_name": "Python 3"
    },
    "language_info": {
      "name": "python"
    }
  },
  "cells": [
    {
      "cell_type": "markdown",
      "metadata": {
        "id": "view-in-github",
        "colab_type": "text"
      },
      "source": [
        "<a href=\"https://colab.research.google.com/github/souchie1/DIO-primeiro-repositorio/blob/main/Untitled1.ipynb\" target=\"_parent\"><img src=\"https://colab.research.google.com/assets/colab-badge.svg\" alt=\"Open In Colab\"/></a>"
      ]
    },
    {
      "cell_type": "code",
      "execution_count": 2,
      "metadata": {
        "colab": {
          "base_uri": "https://localhost:8080/"
        },
        "id": "JzrCk8Vg4Qyz",
        "outputId": "74033c94-45e9-49c8-819c-4080e58697f8"
      },
      "outputs": [
        {
          "output_type": "stream",
          "name": "stdout",
          "text": [
            "Digite o nome do titular da conta: s\n",
            "Digite o saldo inicial: 0\n",
            "\n",
            "Escolha uma operação:\n",
            "1 - Depósito\n",
            "2 - Saque\n",
            "3 - Extrato\n",
            "4 - Sair\n",
            "1\n",
            "Digite o valor do depósito: 2500\n",
            "Depósito de R$2500.00 realizado. Saldo atual: R$2500.00\n",
            "\n",
            "Escolha uma operação:\n",
            "1 - Depósito\n",
            "2 - Saque\n",
            "3 - Extrato\n",
            "4 - Sair\n",
            "3\n",
            "Titular da conta: s\n",
            "Saldo atual: R$2500.00\n",
            "\n",
            "Escolha uma operação:\n",
            "1 - Depósito\n",
            "2 - Saque\n",
            "3 - Extrato\n",
            "4 - Sair\n",
            "4\n",
            "Saindo do sistema.\n"
          ]
        }
      ],
      "source": [
        "class ContaBancaria:\n",
        "    def __init__(self, titular, saldo_inicial=0):\n",
        "        self.titular = titular\n",
        "        self.saldo = saldo_inicial\n",
        "\n",
        "    def deposito(self, valor):\n",
        "        if valor > 0:\n",
        "            self.saldo += valor\n",
        "            print(f\"Depósito de R${valor:.2f} realizado. Saldo atual: R${self.saldo:.2f}\")\n",
        "        else:\n",
        "            print(\"Valor de depósito inválido.\")\n",
        "\n",
        "    def saque(self, valor):\n",
        "        if valor > 0 and valor <= self.saldo:\n",
        "            self.saldo -= valor\n",
        "            print(f\"Saque de R${valor:.2f} realizado. Saldo atual: R${self.saldo:.2f}\")\n",
        "        else:\n",
        "            print(\"Valor de saque inválido ou saldo insuficiente.\")\n",
        "\n",
        "    def extrato(self):\n",
        "        print(f\"Titular da conta: {self.titular}\")\n",
        "        print(f\"Saldo atual: R${self.saldo:.2f}\")\n",
        "\n",
        "def main():\n",
        "    nome_titular = input(\"Digite o nome do titular da conta: \")\n",
        "    saldo_inicial = float(input(\"Digite o saldo inicial: \"))\n",
        "    conta = ContaBancaria(nome_titular, saldo_inicial)\n",
        "\n",
        "    while True:\n",
        "        print(\"\\nEscolha uma operação:\")\n",
        "        print(\"1 - Depósito\")\n",
        "        print(\"2 - Saque\")\n",
        "        print(\"3 - Extrato\")\n",
        "        print(\"4 - Sair\")\n",
        "        escolha = input()\n",
        "\n",
        "        if escolha == \"1\":\n",
        "            valor_deposito = float(input(\"Digite o valor do depósito: \"))\n",
        "            conta.deposito(valor_deposito)\n",
        "        elif escolha == \"2\":\n",
        "            valor_saque = float(input(\"Digite o valor do saque: \"))\n",
        "            conta.saque(valor_saque)\n",
        "        elif escolha == \"3\":\n",
        "            conta.extrato()\n",
        "        elif escolha == \"4\":\n",
        "            print(\"Saindo do sistema.\")\n",
        "            break\n",
        "        else:\n",
        "            print(\"Opção inválida. Por favor, escolha novamente.\")\n",
        "\n",
        "if __name__ == \"__main__\":\n",
        "    main()\n"
      ]
    }
  ]
}