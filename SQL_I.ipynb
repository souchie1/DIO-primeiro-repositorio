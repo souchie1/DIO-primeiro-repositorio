{
  "nbformat": 4,
  "nbformat_minor": 0,
  "metadata": {
    "colab": {
      "provenance": [],
      "authorship_tag": "ABX9TyNWcEvRWNFSkDZkjD29ILep",
      "include_colab_link": true
    },
    "kernelspec": {
      "name": "python3",
      "display_name": "Python 3"
    },
    "language_info": {
      "name": "python"
    }
  },
  "cells": [
    {
      "cell_type": "markdown",
      "metadata": {
        "id": "view-in-github",
        "colab_type": "text"
      },
      "source": [
        "<a href=\"https://colab.research.google.com/github/souchie1/DIO-primeiro-repositorio/blob/main/SQL_I.ipynb\" target=\"_parent\"><img src=\"https://colab.research.google.com/assets/colab-badge.svg\" alt=\"Open In Colab\"/></a>"
      ]
    },
    {
      "cell_type": "code",
      "execution_count": null,
      "metadata": {
        "id": "XeWayuGOHUuf"
      },
      "outputs": [],
      "source": [
        "CREATE TABLE Cliente (\n",
        "    ClienteID INT PRIMARY KEY,\n",
        "    Nome VARCHAR(255),\n",
        "    Tipo VARCHAR(2)\n",
        ");\n",
        "\n",
        "CREATE TABLE Conta (\n",
        "    ContaID INT PRIMARY KEY,\n",
        "    ClienteID INT,\n",
        "    Saldo DECIMAL(10, 2),\n",
        "    TipoConta VARCHAR(2),\n",
        "    FOREIGN KEY (ClienteID) REFERENCES Cliente(ClienteID)\n",
        ");\n",
        "\n",
        "CREATE TABLE Pedido (\n",
        "    PedidoID INT PRIMARY KEY,\n",
        "    ClienteID INT,\n",
        "    DataPedido DATE,\n",
        "    FOREIGN KEY (ClienteID) REFERENCES Cliente(ClienteID)\n",
        ");\n",
        "\n",
        "CREATE TABLE Produto (\n",
        "    ProdutoID INT PRIMARY KEY,\n",
        "    Nome VARCHAR(255),\n",
        "    Preco DECIMAL(10, 2)\n",
        ");\n",
        "\n",
        "CREATE TABLE PedidoItem (\n",
        "    PedidoItemID INT PRIMARY KEY,\n",
        "    PedidoID INT,\n",
        "    ProdutoID INT,\n",
        "    Quantidade INT,\n",
        "    FOREIGN KEY (PedidoID) REFERENCES Pedido(PedidoID),\n",
        "    FOREIGN KEY (ProdutoID) REFERENCES Produto(ProdutoID)\n",
        ");\n",
        "\n",
        "CREATE TABLE Fornecedor (\n",
        "    FornecedorID INT PRIMARY KEY,\n",
        "    Nome VARCHAR(255)\n",
        ");\n",
        "\n",
        "CREATE TABLE Estoque (\n",
        "    EstoqueID INT PRIMARY KEY,\n",
        "    FornecedorID INT,\n",
        "    ProdutoID INT,\n",
        "    Quantidade INT,\n",
        "    FOREIGN KEY (FornecedorID) REFERENCES Fornecedor(FornecedorID),\n",
        "    FOREIGN KEY (ProdutoID) REFERENCES Produto(ProdutoID)\n",
        ");\n",
        "\n",
        "CREATE TABLE Pagamento (\n",
        "    PagamentoID INT PRIMARY KEY,\n",
        "    PedidoID INT,\n",
        "    MetodoPagamento VARCHAR(255),\n",
        "    Valor DECIMAL(10, 2),\n",
        "    FOREIGN KEY (PedidoID) REFERENCES Pedido(PedidoID)\n",
        ");\n",
        "\n",
        "CREATE TABLE Entrega (\n",
        "    EntregaID INT PRIMARY KEY,\n",
        "    PedidoID INT,\n",
        "    Status VARCHAR(255),\n",
        "    CodigoRastreio VARCHAR(50),\n",
        "    FOREIGN KEY (PedidoID) REFERENCES Pedido(PedidoID)\n",
        ");\n",
        "SELECT c.Nome, COUNT(p.PedidoID) AS NumeroPedidos\n",
        "FROM Cliente c\n",
        "LEFT JOIN Pedido p ON c.ClienteID = p.ClienteID\n",
        "GROUP BY c.Nome;\n",
        "SELECT c.Nome, COUNT(p.PedidoID) AS NumeroPedidos\n",
        "FROM Cliente c\n",
        "LEFT JOIN Pedido p ON c.ClienteID = p.ClienteID\n",
        "GROUP BY c.Nome;\n",
        "SELECT p.Nome AS Produto, f.Nome AS Fornecedor, e.Quantidade AS Estoque\n",
        "FROM Produto p\n",
        "INNER JOIN Estoque e ON p.ProdutoID = e.ProdutoID\n",
        "INNER JOIN Fornecedor f ON e.FornecedorID = f.FornecedorID;\n",
        "SELECT f.Nome AS Fornecedor, p.Nome AS Produto\n",
        "FROM Fornecedor f\n",
        "INNER JOIN Estoque e ON f.FornecedorID = e.FornecedorID\n",
        "INNER JOIN Produto p ON e.ProdutoID = p.ProdutoID;\n"
      ]
    }
  ]
}